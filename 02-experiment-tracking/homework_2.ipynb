{
 "cells": [
  {
   "cell_type": "code",
   "execution_count": 16,
   "metadata": {},
   "outputs": [
    {
     "name": "stdout",
     "output_type": "stream",
     "text": [
      "/Users/alighazizadeh/Documents/GitHub/mlops-zoomcamp/02-experiment-tracking\n"
     ]
    }
   ],
   "source": [
    "import os\n",
    "# Change to the macrohive root directory\n",
    "os.chdir('/Users/alighazizadeh/Documents/GitHub/mlops-zoomcamp/02-experiment-tracking')\n",
    "!pwd"
   ]
  },
  {
   "cell_type": "code",
   "execution_count": 18,
   "metadata": {},
   "outputs": [
    {
     "name": "stdout",
     "output_type": "stream",
     "text": [
      "mlflow, version 2.18.0\n"
     ]
    }
   ],
   "source": [
    "!mlflow --version"
   ]
  },
  {
   "cell_type": "code",
   "execution_count": 19,
   "metadata": {},
   "outputs": [],
   "source": [
    "\n",
    "import numpy as np\n",
    "import pandas as pd\n",
    "import matplotlib.pyplot as plt\n",
    "\n",
    "import pickle\n",
    "import seaborn as sns\n",
    "import mlflow\n",
    "\n",
    "# Train linear regression model\n",
    "from sklearn.linear_model import LinearRegression\n",
    "from sklearn.linear_model import Lasso\n",
    "from sklearn.linear_model import Ridge\n",
    "from sklearn.metrics import mean_squared_error\n",
    "from sklearn.preprocessing import StandardScaler\n",
    "from sklearn.feature_extraction import DictVectorizer\n",
    "from sklearn.preprocessing import MinMaxScaler\n",
    "\n",
    "%matplotlib inline\n",
    "\n",
    "\n",
    "\n"
   ]
  },
  {
   "cell_type": "code",
   "execution_count": 20,
   "metadata": {},
   "outputs": [],
   "source": [
    "!python preprocess_data.py --raw_data_path ./data --dest_path ./output"
   ]
  },
  {
   "cell_type": "code",
   "execution_count": 28,
   "metadata": {},
   "outputs": [
    {
     "name": "stderr",
     "output_type": "stream",
     "text": [
      "2025/05/13 13:44:02 WARNING mlflow.utils.autologging_utils: MLflow sklearn autologging is known to be compatible with 0.24.1 <= scikit-learn <= 1.5.2, but the installed version is 1.6.1. If you encounter errors during autologging, try upgrading / downgrading scikit-learn to a compatible version, or try upgrading MLflow.\n",
      "2025/05/13 13:44:03 WARNING mlflow.sklearn: Failed to log training dataset information to MLflow Tracking. Reason: 'numpy.ndarray' object has no attribute 'toarray'\n",
      "2025/05/13 13:44:17 WARNING mlflow.models.model: Model logged without a signature and input example. Please set `input_example` parameter when logging the model to auto infer the model signature.\n"
     ]
    },
    {
     "name": "stdout",
     "output_type": "stream",
     "text": [
      "RMSE: 5.431160019389339\n",
      "🏃 View run rare-duck-514 at: http://127.0.0.1:5000/#/experiments/1/runs/27bc54fdf1ce4d709f14022a216f4cad\n",
      "🧪 View experiment at: http://127.0.0.1:5000/#/experiments/1\n"
     ]
    },
    {
     "data": {
      "text/plain": [
       "0"
      ]
     },
     "execution_count": 28,
     "metadata": {},
     "output_type": "execute_result"
    }
   ],
   "source": [
    "\n",
    "os.system(\"python train.py --data_path ./output\")\n"
   ]
  },
  {
   "cell_type": "code",
   "execution_count": 39,
   "metadata": {},
   "outputs": [
    {
     "name": "stdout",
     "output_type": "stream",
     "text": [
      "🏃 View run overjoyed-swan-658 at: http://127.0.0.1:5000/#/experiments/2/runs/51c48ac8ef4b4517b29dad7960eda05c\n",
      "\n",
      "🧪 View experiment at: http://127.0.0.1:5000/#/experiments/2                    \n",
      "\n",
      "🏃 View run gentle-doe-377 at: http://127.0.0.1:5000/#/experiments/2/runs/cbdbaad0693242198c23c41222afd6bc\n",
      "\n",
      "🧪 View experiment at: http://127.0.0.1:5000/#/experiments/2                    \n",
      "\n",
      "🏃 View run fortunate-cub-110 at: http://127.0.0.1:5000/#/experiments/2/runs/ad71eaca698c4fc9862e05c2f75c727b\n",
      "\n",
      "🧪 View experiment at: http://127.0.0.1:5000/#/experiments/2                    \n",
      "\n",
      "🏃 View run chill-snipe-50 at: http://127.0.0.1:5000/#/experiments/2/runs/9a2c44cc4dfc4d119c5cfe6157442208\n",
      "\n",
      "🧪 View experiment at: http://127.0.0.1:5000/#/experiments/2                    \n",
      "\n",
      "🏃 View run worried-loon-413 at: http://127.0.0.1:5000/#/experiments/2/runs/bc81dc24b1e5416bb01af041bdc65f05\n",
      "\n",
      "🧪 View experiment at: http://127.0.0.1:5000/#/experiments/2                    \n",
      "\n",
      "🏃 View run shivering-rook-899 at: http://127.0.0.1:5000/#/experiments/2/runs/568cc7e1519c4f67bee2343c0b5acb09\n",
      "\n",
      "🧪 View experiment at: http://127.0.0.1:5000/#/experiments/2                    \n",
      "\n",
      "🏃 View run vaunted-dolphin-899 at: http://127.0.0.1:5000/#/experiments/2/runs/b827ae37d081464587494e09c1dd3f67\n",
      "\n",
      "🧪 View experiment at: http://127.0.0.1:5000/#/experiments/2                    \n",
      "\n",
      "🏃 View run powerful-loon-204 at: http://127.0.0.1:5000/#/experiments/2/runs/76b2a1eab2ac4eb089c24401109afe30\n",
      "\n",
      "🧪 View experiment at: http://127.0.0.1:5000/#/experiments/2                    \n",
      "\n",
      "🏃 View run righteous-flea-59 at: http://127.0.0.1:5000/#/experiments/2/runs/b587efe20cd24c22b69c6fd769161823\n",
      "\n",
      "🧪 View experiment at: http://127.0.0.1:5000/#/experiments/2                    \n",
      "\n",
      "🏃 View run useful-bear-424 at: http://127.0.0.1:5000/#/experiments/2/runs/9550e0944304427bb9c997a0a8e9511a\n",
      "\n",
      "🧪 View experiment at: http://127.0.0.1:5000/#/experiments/2                    \n",
      "\n",
      "🏃 View run caring-smelt-696 at: http://127.0.0.1:5000/#/experiments/2/runs/92216edd751c4a69a61e86ce39c6bdb2\n",
      "\n",
      "🧪 View experiment at: http://127.0.0.1:5000/#/experiments/2                    \n",
      "\n",
      "🏃 View run efficient-cow-339 at: http://127.0.0.1:5000/#/experiments/2/runs/a0c66c9daa6a4355b632e7a0c3357802\n",
      "\n",
      "🧪 View experiment at: http://127.0.0.1:5000/#/experiments/2                    \n",
      "\n",
      "🏃 View run unleashed-conch-498 at: http://127.0.0.1:5000/#/experiments/2/runs/fc4797f0bbb748038dcd39266bf7c94a\n",
      "\n",
      "🧪 View experiment at: http://127.0.0.1:5000/#/experiments/2                    \n",
      "\n",
      "🏃 View run bedecked-snake-894 at: http://127.0.0.1:5000/#/experiments/2/runs/f6f48d27faeb421e84b43d0f356b68b1\n",
      "\n",
      "🧪 View experiment at: http://127.0.0.1:5000/#/experiments/2                    \n",
      "\n",
      "🏃 View run legendary-asp-463 at: http://127.0.0.1:5000/#/experiments/2/runs/21df8dc6ce9b40eca3b79f8f063d660b\n",
      "\n",
      "🧪 View experiment at: http://127.0.0.1:5000/#/experiments/2                    \n",
      "\n",
      "100%|██████████| 15/15 [00:34<00:00,  2.31s/trial, best loss: 5.335419588556921]\n",
      "🏃 View run skillful-goat-854 at: http://127.0.0.1:5000/#/experiments/2/runs/69c5c15fd4ee4f6996f746dc43c5b4fa\n",
      "🧪 View experiment at: http://127.0.0.1:5000/#/experiments/2\n"
     ]
    }
   ],
   "source": [
    "!python hpo.py"
   ]
  },
  {
   "cell_type": "code",
   "execution_count": 47,
   "metadata": {},
   "outputs": [
    {
     "name": "stdout",
     "output_type": "stream",
     "text": [
      "Error while deleting experiment: RESOURCE_DOES_NOT_EXIST: No Experiment with id=3 exists\n"
     ]
    }
   ],
   "source": [
    "import mlflow\n",
    "from mlflow.client import MlflowClient\n",
    "from mlflow.entities.view_type import ViewType\n",
    "\n",
    "client = MlflowClient()\n",
    "\n",
    "# Find the deleted experiment by name\n",
    "deleted_experiments = client.search_experiments(view_type=ViewType.DELETED_ONLY)\n",
    "try:\n",
    "    for exp in deleted_experiments:\n",
    "        if exp.name == \"random-forest-best-models\":\n",
    "            client.delete_experiment(exp.experiment_id)\n",
    "            print(f\"Permanently deleted experiment: {exp.name}\")\n",
    "            break\n",
    "    else:\n",
    "        print(\"No deleted experiment with name 'random-forest-best-models' was found\")\n",
    "except Exception as e:\n",
    "    print(f\"Error while deleting experiment: {str(e)}\")"
   ]
  },
  {
   "cell_type": "code",
   "execution_count": 50,
   "metadata": {},
   "outputs": [
    {
     "name": "stdout",
     "output_type": "stream",
     "text": [
      "2025/05/14 16:26:19 WARNING mlflow.utils.autologging_utils: MLflow sklearn autologging is known to be compatible with 0.24.1 <= scikit-learn <= 1.5.2, but the installed version is 1.6.1. If you encounter errors during autologging, try upgrading / downgrading scikit-learn to a compatible version, or try upgrading MLflow.\n",
      "2025/05/14 16:26:20 WARNING mlflow.sklearn: Failed to log training dataset information to MLflow Tracking. Reason: 'numpy.ndarray' object has no attribute 'toarray'\n",
      "🏃 View run enchanting-squid-822 at: http://127.0.0.1:5000/#/experiments/3/runs/00cf7d3457bb48d697a18fef7dda6313\n",
      "🧪 View experiment at: http://127.0.0.1:5000/#/experiments/3\n",
      "2025/05/14 16:26:26 WARNING mlflow.sklearn: Failed to log training dataset information to MLflow Tracking. Reason: 'numpy.ndarray' object has no attribute 'toarray'\n",
      "🏃 View run suave-conch-914 at: http://127.0.0.1:5000/#/experiments/3/runs/49d151d599984fe6b6c92db0ee21c4d1\n",
      "🧪 View experiment at: http://127.0.0.1:5000/#/experiments/3\n",
      "2025/05/14 16:26:32 WARNING mlflow.sklearn: Failed to log training dataset information to MLflow Tracking. Reason: 'numpy.ndarray' object has no attribute 'toarray'\n",
      "🏃 View run marvelous-crane-347 at: http://127.0.0.1:5000/#/experiments/3/runs/bd400b61cab74662a8ddc461f7d3c3c6\n",
      "🧪 View experiment at: http://127.0.0.1:5000/#/experiments/3\n",
      "2025/05/14 16:26:36 WARNING mlflow.sklearn: Failed to log training dataset information to MLflow Tracking. Reason: 'numpy.ndarray' object has no attribute 'toarray'\n",
      "🏃 View run honorable-stork-113 at: http://127.0.0.1:5000/#/experiments/3/runs/6da00ee80bd54f6c8f58bb6231c9165d\n",
      "🧪 View experiment at: http://127.0.0.1:5000/#/experiments/3\n",
      "2025/05/14 16:26:41 WARNING mlflow.sklearn: Failed to log training dataset information to MLflow Tracking. Reason: 'numpy.ndarray' object has no attribute 'toarray'\n",
      "🏃 View run nimble-chimp-650 at: http://127.0.0.1:5000/#/experiments/3/runs/20c8c0854fae4ebea37929aff9a3cdd1\n",
      "🧪 View experiment at: http://127.0.0.1:5000/#/experiments/3\n",
      "<Run: data=<RunData: metrics={'test_rmse': 5.567408012462019,\n",
      " 'training_mean_absolute_error': 3.23365652419934,\n",
      " 'training_mean_squared_error': 24.785660360279664,\n",
      " 'training_r2_score': 0.6956122194293166,\n",
      " 'training_root_mean_squared_error': 4.978519896543516,\n",
      " 'training_score': 0.6956122194293166,\n",
      " 'val_rmse': 5.335419588556921}, params={'bootstrap': 'True',\n",
      " 'ccp_alpha': '0.0',\n",
      " 'criterion': 'squared_error',\n",
      " 'max_depth': '19',\n",
      " 'max_features': '1.0',\n",
      " 'max_leaf_nodes': 'None',\n",
      " 'max_samples': 'None',\n",
      " 'min_impurity_decrease': '0.0',\n",
      " 'min_samples_leaf': '2',\n",
      " 'min_samples_split': '2',\n",
      " 'min_weight_fraction_leaf': '0.0',\n",
      " 'monotonic_cst': 'None',\n",
      " 'n_estimators': '11',\n",
      " 'n_jobs': 'None',\n",
      " 'oob_score': 'False',\n",
      " 'random_state': '42',\n",
      " 'verbose': '0',\n",
      " 'warm_start': 'False'}, tags={'estimator_class': 'sklearn.ensemble._forest.RandomForestRegressor',\n",
      " 'estimator_name': 'RandomForestRegressor',\n",
      " 'mlflow.log-model.history': '[{\"run_id\": \"20c8c0854fae4ebea37929aff9a3cdd1\", '\n",
      "                             '\"artifact_path\": \"model\", \"utc_time_created\": '\n",
      "                             '\"2025-05-14 20:26:43.011971\", \"model_uuid\": '\n",
      "                             '\"a99012af06964b438e7ce94600fa2520\", \"flavors\": '\n",
      "                             '{\"python_function\": {\"model_path\": \"model.pkl\", '\n",
      "                             '\"predict_fn\": \"predict\", \"loader_module\": '\n",
      "                             '\"mlflow.sklearn\", \"python_version\": \"3.9.21\", '\n",
      "                             '\"env\": {\"conda\": \"conda.yaml\", \"virtualenv\": '\n",
      "                             '\"python_env.yaml\"}}, \"sklearn\": '\n",
      "                             '{\"pickled_model\": \"model.pkl\", '\n",
      "                             '\"sklearn_version\": \"1.6.1\", '\n",
      "                             '\"serialization_format\": \"cloudpickle\", \"code\": '\n",
      "                             'null}}}]',\n",
      " 'mlflow.runName': 'nimble-chimp-650',\n",
      " 'mlflow.source.git.commit': '6fc7946671902b93e92cfcfbb880a7332381b937',\n",
      " 'mlflow.source.name': 'register_model.py',\n",
      " 'mlflow.source.type': 'LOCAL',\n",
      " 'mlflow.user': 'alighazizadeh'}>, info=<RunInfo: artifact_uri='mlflow-artifacts:/3/20c8c0854fae4ebea37929aff9a3cdd1/artifacts', end_time=1747254406207, experiment_id='3', lifecycle_stage='active', run_id='20c8c0854fae4ebea37929aff9a3cdd1', run_name='nimble-chimp-650', run_uuid='20c8c0854fae4ebea37929aff9a3cdd1', start_time=1747254401325, status='FINISHED', user_id='alighazizadeh'>, inputs=<RunInputs: dataset_inputs=[<DatasetInput: dataset=<Dataset: digest='7edda543', name='dataset', profile=('{\"features_shape\": [62574, 5702], \"features_size\": 356796948, '\n",
      " '\"features_nbytes\": 2854375584}'), schema=('{\"mlflow_tensorspec\": {\"features\": \"[{\\\\\"type\\\\\": \\\\\"tensor\\\\\", '\n",
      " '\\\\\"tensor-spec\\\\\": {\\\\\"dtype\\\\\": \\\\\"float64\\\\\", \\\\\"shape\\\\\": [-1, 5702]}}]\", '\n",
      " '\"targets\": null}}'), source=('{\"tags\": {\"mlflow.user\": \"alighazizadeh\", \"mlflow.source.name\": \"train.py\", '\n",
      " '\"mlflow.source.type\": \"LOCAL\", \"mlflow.source.git.commit\": '\n",
      " '\"6fc7946671902b93e92cfcfbb880a7332381b937\"}}'), source_type='code'>, tags=[<InputTag: key='mlflow.data.context', value='eval'>]>,\n",
      " <DatasetInput: dataset=<Dataset: digest='5a2feb47', name='dataset', profile=('{\"features_shape\": [69392, 5702], \"features_size\": 395673184, '\n",
      " '\"features_nbytes\": 3165385472}'), schema=('{\"mlflow_tensorspec\": {\"features\": \"[{\\\\\"type\\\\\": \\\\\"tensor\\\\\", '\n",
      " '\\\\\"tensor-spec\\\\\": {\\\\\"dtype\\\\\": \\\\\"float64\\\\\", \\\\\"shape\\\\\": [-1, 5702]}}]\", '\n",
      " '\"targets\": null}}'), source=('{\"tags\": {\"mlflow.user\": \"alighazizadeh\", \"mlflow.source.name\": '\n",
      " '\"register_model.py\", \"mlflow.source.type\": \"LOCAL\", '\n",
      " '\"mlflow.source.git.commit\": \"6fc7946671902b93e92cfcfbb880a7332381b937\"}}'), source_type='code'>, tags=[<InputTag: key='mlflow.data.context', value='eval'>]>]>>\n",
      "Successfully registered model 'random-forest-best-model'.\n",
      "2025/05/14 16:26:46 INFO mlflow.store.model_registry.abstract_store: Waiting up to 300 seconds for model version to finish creation. Model name: random-forest-best-model, version 1\n",
      "Created version '1' of model 'random-forest-best-model'.\n"
     ]
    }
   ],
   "source": [
    "!python register_model.py"
   ]
  }
 ],
 "metadata": {
  "kernelspec": {
   "display_name": "exp-tracking-env",
   "language": "python",
   "name": "python3"
  },
  "language_info": {
   "codemirror_mode": {
    "name": "ipython",
    "version": 3
   },
   "file_extension": ".py",
   "mimetype": "text/x-python",
   "name": "python",
   "nbconvert_exporter": "python",
   "pygments_lexer": "ipython3",
   "version": "3.9.21"
  }
 },
 "nbformat": 4,
 "nbformat_minor": 2
}
