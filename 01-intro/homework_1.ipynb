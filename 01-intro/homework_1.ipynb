{
 "cells": [
  {
   "cell_type": "code",
   "execution_count": 13,
   "metadata": {},
   "outputs": [
    {
     "name": "stdout",
     "output_type": "stream",
     "text": [
      "/Users/alighazizadeh/Documents/GitHub/mlops-zoomcamp/01-intro\n"
     ]
    }
   ],
   "source": [
    "import os\n",
    "# Change to the macrohive root directory\n",
    "os.chdir('/Users/alighazizadeh/Documents/GitHub/mlops-zoomcamp/01-intro')\n",
    "!pwd"
   ]
  },
  {
   "cell_type": "code",
   "execution_count": 2,
   "metadata": {},
   "outputs": [],
   "source": [
    "import numpy as np\n",
    "import pandas as pd\n",
    "\n",
    "import sklearn\n",
    "import matplotlib\n",
    "#from src.data.dataset import MotorImageryDataset\n",
    "\n",
    "\n",
    "from datetime import datetime\n",
    "import importlib\n",
    "\n",
    "# Train linear regression model\n",
    "from sklearn.linear_model import LinearRegression\n",
    "from sklearn.metrics import mean_squared_error\n",
    "\n",
    "%matplotlib inline\n",
    "import matplotlib.pyplot as plt\n",
    "# from sklearn.metrics import r2_score\n",
    "import torch.nn.functional as F\n",
    "import math\n",
    "from datetime import datetime, timedelta\n",
    "from sklearn.preprocessing import MinMaxScaler\n",
    "\n",
    "from collections import OrderedDict\n",
    "from sklearn.preprocessing import StandardScaler\n",
    "# Fit DictVectorizer\n",
    "from sklearn.feature_extraction import DictVectorizer\n"
   ]
  },
  {
   "cell_type": "code",
   "execution_count": 14,
   "metadata": {},
   "outputs": [
    {
     "name": "stdout",
     "output_type": "stream",
     "text": [
      "number of columns: 19\n"
     ]
    }
   ],
   "source": [
    "df=pd.read_parquet('data/yellow_tripdata_2023-01.parquet')\n",
    "print(f'number of columns: {len(df.columns)}')\n"
   ]
  },
  {
   "cell_type": "code",
   "execution_count": 18,
   "metadata": {},
   "outputs": [
    {
     "name": "stdout",
     "output_type": "stream",
     "text": [
      "number of rows before time filter: 3066766\n",
      "number of rows after time filter: 2966359\n",
      "\n",
      "Unique dates outside the time filter:\n",
      "2008-12-31\n",
      "2022-10-24\n",
      "2022-10-25\n",
      "2022-12-31\n",
      "2023-01-31\n",
      "2023-02-01\n",
      "trip_durtaion_std_jan: 42.79\n"
     ]
    }
   ],
   "source": [
    "\n",
    "trip_duration = (df.tpep_dropoff_datetime - df.tpep_pickup_datetime).dt.total_seconds() / 60\n",
    "df['duration'] = trip_duration\n",
    "\n",
    "\n",
    "time_filter = (df.tpep_pickup_datetime < '2023-01-31') & (df.tpep_dropoff_datetime > '2023-01-01')\n",
    "\n",
    "df_time_filter = df[time_filter]\n",
    "\n",
    "print(f'number of rows before time filter: {len(df)}')\n",
    "print(f'number of rows after time filter: {len(df_time_filter)}')\n",
    "\n",
    "# Get dates outside the time filter\n",
    "dates_outside_filter = df[~time_filter]['tpep_pickup_datetime'].dt.date.unique()\n",
    "print(\"\\nUnique dates outside the time filter:\")\n",
    "for date in sorted(dates_outside_filter):\n",
    "    print(date)\n",
    "\n",
    "trip_durtaion_std_jan=df_time_filter['duration'].std()\n",
    "print(f'trip_durtaion_std_jan: {trip_durtaion_std_jan:.2f}')"
   ]
  },
  {
   "cell_type": "code",
   "execution_count": 19,
   "metadata": {},
   "outputs": [
    {
     "name": "stdout",
     "output_type": "stream",
     "text": [
      "original rows: 3066766\n",
      "rows after time filter: 2966359\n",
      "rows after time and duration filter: 2910919\n",
      "pct rows kept: 98.13%\n"
     ]
    }
   ],
   "source": [
    "duration_filter = (df['duration'] >= 1) & (df['duration'] <= 60)\n",
    "df_time_duration_filter = df[time_filter & duration_filter]\n",
    "\n",
    "\n",
    "print(f'original rows: {len(df)}')\n",
    "print(f'rows after time filter: {len(df_time_filter)}')\n",
    "print(f'rows after time and duration filter: {len(df_time_duration_filter)}')\n",
    "print(f'pct rows kept: {(len(df_time_duration_filter)/len(df_time_filter))*100:.2f}%')\n",
    "\n"
   ]
  },
  {
   "cell_type": "code",
   "execution_count": 20,
   "metadata": {},
   "outputs": [
    {
     "name": "stdout",
     "output_type": "stream",
     "text": [
      "2910919\n",
      "number of columns of feature matrix: 515 should be equal to unique number of location ids 255 + 260 \n"
     ]
    }
   ],
   "source": [
    "# Convert location IDs to strings and create list of dicts\n",
    "dicts = df_time_duration_filter[['PULocationID', 'DOLocationID']].astype(str).to_dict(orient='records')\n",
    "dv = DictVectorizer()\n",
    "X = dv.fit_transform(dicts)\n",
    "print(len(df_time_duration_filter))\n",
    "print(f\"number of columns of feature matrix: {X.shape[1]} should be equal to unique number of location ids {len(df_time_duration_filter['PULocationID'].unique())} + {len(df_time_duration_filter['DOLocationID'].unique())} \")\n"
   ]
  },
  {
   "cell_type": "code",
   "execution_count": 21,
   "metadata": {},
   "outputs": [
    {
     "name": "stdout",
     "output_type": "stream",
     "text": [
      "RMSE on training data: 7.61\n"
     ]
    }
   ],
   "source": [
    "# Get target variable\n",
    "y = df_time_duration_filter['duration'].values\n",
    "\n",
    "# Initialize and train model\n",
    "lr = LinearRegression()\n",
    "lr.fit(X, y)\n",
    "\n",
    "# Make predictions on training data\n",
    "y_pred = lr.predict(X)\n",
    "\n",
    "# Calculate RMSE\n",
    "rmse = np.sqrt(mean_squared_error(y, y_pred))\n",
    "print(f'RMSE on training data: {rmse:.2f}')\n"
   ]
  },
  {
   "cell_type": "code",
   "execution_count": 22,
   "metadata": {},
   "outputs": [
    {
     "name": "stdout",
     "output_type": "stream",
     "text": [
      "original rows: 2913955\n",
      "rows after time filter: 2812777\n",
      "rows after time and duration filter: 2756446\n",
      "pct rows kept: 98.00%\n",
      "\n",
      "Unique dates outside the time filter:\n",
      "2008-12-31\n",
      "2009-01-01\n",
      "2023-01-31\n",
      "2023-02-28\n",
      "2023-03-01\n",
      "2023-03-06\n",
      "2023-03-07\n"
     ]
    }
   ],
   "source": [
    "# Test on validation data from Feb 2023\n",
    "df_test=pd.read_parquet('data/yellow_tripdata_2023-02.parquet')\n",
    "time_test_filter = (df_test.tpep_pickup_datetime < '2023-02-28') & (df_test.tpep_dropoff_datetime > '2023-02-01')\n",
    "\n",
    "trip_test_duration = (df_test.tpep_dropoff_datetime - df_test.tpep_pickup_datetime).dt.total_seconds() / 60\n",
    "df_test['duration'] = trip_test_duration\n",
    "duration_test_filter = (df_test['duration'] >= 1) & (df_test['duration'] <= 60)\n",
    "\n",
    "df_test_time_filter = df_test[time_test_filter]\n",
    "df_test_time_duration_filter = df_test[time_test_filter & duration_test_filter]\n",
    "\n",
    "\n",
    "print(f'original rows: {len(df_test)}')\n",
    "print(f'rows after time filter: {len(df_test_time_filter)}')\n",
    "print(f'rows after time and duration filter: {len(df_test_time_duration_filter)}')\n",
    "print(f'pct rows kept: {(len(df_test_time_duration_filter)/len(df_test_time_filter))*100:.2f}%')\n",
    "\n",
    "# Get dates outside the time filter\n",
    "dates_outside_filter = df_test[~time_test_filter]['tpep_pickup_datetime'].dt.date.unique()\n",
    "print(\"\\nUnique dates outside the time filter:\")\n",
    "for date in sorted(dates_outside_filter):\n",
    "    print(date)"
   ]
  },
  {
   "cell_type": "code",
   "execution_count": 23,
   "metadata": {},
   "outputs": [
    {
     "name": "stdout",
     "output_type": "stream",
     "text": [
      "Number of PULocationID intersections: 250\n",
      "Number of DOLocationID intersections: 260\n",
      " number of unique PULocationID in test data: 253\n",
      " number of unique DOLocationID in test data: 261\n",
      "\n",
      "PULocationIDs in test but not in train: 3\n",
      "PULocationIDs: [59, 105, 204]\n",
      "\n",
      "DOLocationIDs in test but not in train: 1\n",
      "DOLocationIDs: [105]\n",
      "Some test locations are not in train locations\n"
     ]
    }
   ],
   "source": [
    "\n",
    "# Get unique location IDs from training and test data\n",
    "train_pu_locations = set(df_time_duration_filter['PULocationID'].unique())\n",
    "train_do_locations = set(df_time_duration_filter['DOLocationID'].unique())\n",
    "test_pu_locations = set(df_test_time_duration_filter['PULocationID'].unique())\n",
    "test_do_locations = set(df_test_time_duration_filter['DOLocationID'].unique())\n",
    "\n",
    "# Find intersections\n",
    "pu_intersection = train_pu_locations.intersection(test_pu_locations)\n",
    "do_intersection = train_do_locations.intersection(test_do_locations)\n",
    "\n",
    "print(f\"Number of PULocationID intersections: {len(pu_intersection)}\")\n",
    "print(f\"Number of DOLocationID intersections: {len(do_intersection)}\")\n",
    "print(f\" number of unique PULocationID in test data: {len(test_pu_locations)}\")\n",
    "print(f\" number of unique DOLocationID in test data: {len(test_do_locations)}\")\n",
    "\n",
    "# Check if all test locations are in train locations\n",
    "test_only_pu = test_pu_locations - train_pu_locations\n",
    "test_only_do = test_do_locations - train_do_locations\n",
    "\n",
    "print(\"\\nPULocationIDs in test but not in train:\", len(test_only_pu))\n",
    "if len(test_only_pu) > 0:\n",
    "    print(\"PULocationIDs:\", sorted(test_only_pu))\n",
    "\n",
    "print(\"\\nDOLocationIDs in test but not in train:\", len(test_only_do)) \n",
    "if len(test_only_do) > 0:\n",
    "    print(\"DOLocationIDs:\", sorted(test_only_do))\n",
    "\n",
    "\n",
    "if len(test_only_pu) == 0 & len(test_only_do) == 0:\n",
    "    print(\"All test locations are in train locations\")\n",
    "else:\n",
    "    print(\"Some test locations are not in train locations\")\n"
   ]
  },
  {
   "cell_type": "code",
   "execution_count": 24,
   "metadata": {},
   "outputs": [
    {
     "name": "stdout",
     "output_type": "stream",
     "text": [
      "Training features: 515\n",
      "Test features: 515\n",
      "RMSE on training data: 7.61\n",
      "RMSE on test data: 7.83\n"
     ]
    }
   ],
   "source": [
    "# As precaution, let's use the same locations in test as in training\n",
    "train_locations = set(df_time_duration_filter['PULocationID'].unique()) | set(df_time_duration_filter['DOLocationID'].unique())\n",
    "\n",
    "# Filter test data to only include locations that were in training data\n",
    "valid_locations_mask = (\n",
    "    df_test_time_duration_filter['PULocationID'].isin(train_locations) & \n",
    "    df_test_time_duration_filter['DOLocationID'].isin(train_locations)\n",
    ")\n",
    "\n",
    "df_test_time_duration_ID_filter = df_test_time_duration_filter[valid_locations_mask].copy()\n",
    "\n",
    "# Create a DictVectorizer with all possible combinations from training data\n",
    "dv = DictVectorizer(sparse=True)\n",
    "\n",
    "# Fit DictVectorizer on training data only\n",
    "train_dicts = df_time_duration_filter[['PULocationID', 'DOLocationID']].astype(str).to_dict(orient='records')\n",
    "X = dv.fit_transform(train_dicts)\n",
    "\n",
    "# Transform test data using the fitted DictVectorizer\n",
    "test_dicts = df_test_time_duration_ID_filter[['PULocationID', 'DOLocationID']].astype(str).to_dict(orient='records')\n",
    "X_test = dv.transform(test_dicts)\n",
    "\n",
    "print(f\"Training features: {X.shape[1]}\")\n",
    "print(f\"Test features: {X_test.shape[1]}\")\n",
    "\n",
    "# Retrain the model with the new features\n",
    "lr = LinearRegression()\n",
    "y = df_time_duration_filter['duration'].values\n",
    "lr.fit(X, y)\n",
    "y_pred = lr.predict(X)\n",
    "rmse = np.sqrt(mean_squared_error(y, y_pred))\n",
    "print(f'RMSE on training data: {rmse:.2f}')\n",
    "\n",
    "# Now predict\n",
    "y_test = df_test_time_duration_ID_filter['duration'].values\n",
    "y_pred_test = lr.predict(X_test)\n",
    "\n",
    "rmse_test = np.sqrt(mean_squared_error(y_test, y_pred_test))\n",
    "print(f'RMSE on test data: {rmse_test:.2f}')"
   ]
  }
 ],
 "metadata": {
  "kernelspec": {
   "display_name": "finespresso",
   "language": "python",
   "name": "python3"
  },
  "language_info": {
   "codemirror_mode": {
    "name": "ipython",
    "version": 3
   },
   "file_extension": ".py",
   "mimetype": "text/x-python",
   "name": "python",
   "nbconvert_exporter": "python",
   "pygments_lexer": "ipython3",
   "version": "3.11.10"
  }
 },
 "nbformat": 4,
 "nbformat_minor": 2
}
